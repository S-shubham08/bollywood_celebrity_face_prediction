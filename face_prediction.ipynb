{
 "cells": [
  {
   "cell_type": "code",
   "execution_count": 5,
   "metadata": {},
   "outputs": [
    {
     "name": "stderr",
     "output_type": "stream",
     "text": [
      "100%|██████████████████████████████████████████████████████████████████████████████| 8664/8664 [15:47<00:00,  9.14it/s]\n"
     ]
    }
   ],
   "source": [
    "\n",
    "from tensorflow.keras.preprocessing import image\n",
    "from keras_vggface.utils import preprocess_input\n",
    "from keras_vggface.vggface import VGGFace\n",
    "import numpy as np\n",
    "import pickle\n",
    "from tqdm import tqdm\n",
    "import tensorflow as tf\n",
    "\n",
    "filenames = pickle.load(open('filenames.pkl','rb'))\n",
    "\n",
    "model = VGGFace(model='resnet50',include_top=False,input_shape=(224,224,3),pooling='avg')\n",
    "#print(model.summary())\n",
    "\n",
    "def feature_extractor(img_path,model):\n",
    "    img = image.load_img(img_path,target_size=(224,224))\n",
    "    img_array = image.img_to_array(img)\n",
    "    expanded_img = np.expand_dims(img_array,axis=0)\n",
    "    preprocessed_img = preprocess_input(expanded_img)\n",
    "    \n",
    "    with tf.device('/cpu:0'):\n",
    "        result = model.predict(preprocessed_img)\n",
    "    return result\n",
    "\n",
    "features = []\n",
    "\n",
    "for file in tqdm(filenames):\n",
    "    features.append(feature_extractor(file,model))\n",
    "\n",
    "pickle.dump(features,open('embedding.pkl','wb'))"
   ]
  },
  {
   "cell_type": "code",
   "execution_count": null,
   "metadata": {},
   "outputs": [],
   "source": []
  },
  {
   "cell_type": "code",
   "execution_count": null,
   "metadata": {},
   "outputs": [],
   "source": []
  }
 ],
 "metadata": {
  "kernelspec": {
   "display_name": "Python (VGGenv)",
   "language": "python",
   "name": "vggenv"
  },
  "language_info": {
   "codemirror_mode": {
    "name": "ipython",
    "version": 3
   },
   "file_extension": ".py",
   "mimetype": "text/x-python",
   "name": "python",
   "nbconvert_exporter": "python",
   "pygments_lexer": "ipython3",
   "version": "3.7.16"
  }
 },
 "nbformat": 4,
 "nbformat_minor": 4
}
